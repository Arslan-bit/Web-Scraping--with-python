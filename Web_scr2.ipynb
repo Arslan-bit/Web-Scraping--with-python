{
 "cells": [
  {
   "cell_type": "markdown",
   "metadata": {},
   "source": [
    "# Import "
   ]
  },
  {
   "cell_type": "code",
   "execution_count": 1,
   "metadata": {},
   "outputs": [],
   "source": [
    "import requests\n",
    "from  bs4 import BeautifulSoup\n",
    "import numpy as np\n",
    "import string\n",
    "from urllib.request import Request, urlopen\n",
    "import re\n",
    "import os\n",
    "from urllib.parse import urljoin"
   ]
  },
  {
   "cell_type": "markdown",
   "metadata": {},
   "source": [
    "# URLs"
   ]
  },
  {
   "cell_type": "code",
   "execution_count": 2,
   "metadata": {},
   "outputs": [],
   "source": [
    "# url = \"https://stackoverflow.com/questions/30042334/attribute-error-list-object-has-no-attribute-split\"\n",
    "# url = \"https://www.geeksforgeeks.org/create-a-directory-in-python/\"\n",
    "# url='https://en.wikipedia.org/wiki/Imran_Khan'\n",
    "# url='https://stackoverflow.com/questions/3711856/how-to-remove-empty-lines-with-or-without-whitespace-in-python'\n",
    "# url=\"https://www.tutorialspoint.com/downloading-files-from-web-using-python\"\n",
    "# url=\"https://www.tutorialspoint.com/beyond_basic_programming_intermediate_python/index.asp\"\n",
    "# url = 'https://techfor.netlify.app'\n",
    "url = 'https://alltop.netlify.app'"
   ]
  },
  {
   "cell_type": "markdown",
   "metadata": {},
   "source": [
    "# Get The Heading"
   ]
  },
  {
   "cell_type": "code",
   "execution_count": 3,
   "metadata": {},
   "outputs": [],
   "source": [
    "\n",
    "r = requests.get(url)\n",
    "htmlcontents  = r.content\n",
    "# print(htmlcontents)\n",
    "soop = BeautifulSoup(htmlcontents,'html.parser')\n",
    "# print(soop.prettify())\n",
    "\n",
    "paragraph = soop.find_all('p')\n",
    "# print(paragraph)\n",
    "\n",
    "heading = soop.find('title')\n",
    "heaad = heading.text\n",
    "\n",
    "# heaad = heaad.split(' ')[:3] if len(heaad.split(' ')) > 1 else heaad\n"
   ]
  },
  {
   "cell_type": "code",
   "execution_count": 4,
   "metadata": {},
   "outputs": [
    {
     "name": "stdout",
     "output_type": "stream",
     "text": [
      "Home Page\n"
     ]
    }
   ],
   "source": [
    "print((heaad))"
   ]
  },
  {
   "cell_type": "markdown",
   "metadata": {},
   "source": [
    "# Analyse the Heading"
   ]
  },
  {
   "cell_type": "code",
   "execution_count": 5,
   "metadata": {},
   "outputs": [
    {
     "name": "stdout",
     "output_type": "stream",
     "text": [
      "Home Page\n"
     ]
    }
   ],
   "source": [
    "# a_string = '!hi. wh?at is the weat[h]er lik?e.'\n",
    "a_string = heaad\n",
    "new_string = a_string.translate(str.maketrans('', '', string.punctuation))\n",
    "\n",
    "print(new_string)"
   ]
  },
  {
   "cell_type": "markdown",
   "metadata": {},
   "source": [
    "# Create Main Directory"
   ]
  },
  {
   "cell_type": "code",
   "execution_count": 6,
   "metadata": {},
   "outputs": [
    {
     "name": "stdout",
     "output_type": "stream",
     "text": [
      "Directory 'Home Page' created\n",
      "C:/Scraping/Home Page\n"
     ]
    }
   ],
   "source": [
    "# Directory\n",
    "directory = new_string\n",
    "  \n",
    "# Parent Directory path\n",
    "parent_dir = \"C:/Scraping/\"\n",
    "  \n",
    "# Path join\n",
    "path = os.path.join(parent_dir, directory)\n",
    "  \n",
    "os.mkdir(path)\n",
    "print(\"Directory '% s' created\" % directory)\n",
    "print(path)"
   ]
  },
  {
   "cell_type": "markdown",
   "metadata": {},
   "source": [
    "# Make List Sub Directory"
   ]
  },
  {
   "cell_type": "code",
   "execution_count": 7,
   "metadata": {},
   "outputs": [],
   "source": [
    "sub_add_dir = parent_dir + directory +\"/\"\n",
    "# print(sub_add_dir)\n",
    "list = [\"html\",\"css\",\"java\"]"
   ]
  },
  {
   "cell_type": "markdown",
   "metadata": {},
   "source": [
    "# Create Sub Directory in Main Directory"
   ]
  },
  {
   "cell_type": "code",
   "execution_count": 8,
   "metadata": {},
   "outputs": [
    {
     "name": "stdout",
     "output_type": "stream",
     "text": [
      "Directory 'html' created\n",
      "Directory 'css' created\n",
      "Directory 'java' created\n"
     ]
    }
   ],
   "source": [
    "n=0\n",
    "while n <len(list):\n",
    "    sub_directory =list[n] \n",
    "\n",
    "    # Path join\n",
    "    spath = os.path.join(sub_add_dir, sub_directory)\n",
    "\n",
    "    os.mkdir(spath)\n",
    "    \n",
    "    print(\"Directory '% s' created\" % sub_directory)\n",
    "    \n",
    "    n=n+1\n",
    "    "
   ]
  },
  {
   "cell_type": "code",
   "execution_count": 9,
   "metadata": {},
   "outputs": [],
   "source": [
    "# print(path)"
   ]
  },
  {
   "cell_type": "code",
   "execution_count": 10,
   "metadata": {},
   "outputs": [
    {
     "name": "stdout",
     "output_type": "stream",
     "text": [
      "['css', 'html', 'java']\n",
      "3\n"
     ]
    }
   ],
   "source": [
    "N_folder = os.listdir(path)\n",
    "print(N_folder)\n",
    "n = len(N_folder)\n",
    "print(n)\n"
   ]
  },
  {
   "cell_type": "markdown",
   "metadata": {},
   "source": [
    "# Create .txt file in the sub Directorys"
   ]
  },
  {
   "cell_type": "code",
   "execution_count": 11,
   "metadata": {},
   "outputs": [
    {
     "name": "stdout",
     "output_type": "stream",
     "text": [
      "C:/Scraping/Home Page/css/css.txt\n",
      "C:/Scraping/Home Page/html/html.txt\n",
      "C:/Scraping/Home Page/java/java.txt\n"
     ]
    }
   ],
   "source": [
    "\n",
    "n=0\n",
    "while n<len(N_folder):\n",
    "    \n",
    "    file = open(path + '/' + N_folder[n] + '/' + N_folder[n] + '.txt','w')\n",
    "    file.close\n",
    "\n",
    "    print((path + '/' + N_folder[n] + '/' + N_folder[n] + '.txt'))\n",
    "    \n",
    "    n=n+1\n",
    "    "
   ]
  },
  {
   "cell_type": "markdown",
   "metadata": {},
   "source": [
    "# Extract & split the HTML and save in html.txt file"
   ]
  },
  {
   "cell_type": "code",
   "execution_count": 22,
   "metadata": {},
   "outputs": [
    {
     "name": "stdout",
     "output_type": "stream",
     "text": [
      "<http.client.HTTPResponse object at 0x0000023B1265E460>\n"
     ]
    }
   ],
   "source": [
    "# HTML\n",
    "req = Request(url)\n",
    "html_page = urlopen(req)\n",
    "\n",
    "print(html_page)\n",
    "\n",
    "soup = BeautifulSoup(html_page, \"html.parser\")\n",
    "\n",
    "print(soup)\n",
    "\n",
    "html_text = soup.get_text()\n",
    "\n",
    "\n"
   ]
  },
  {
   "cell_type": "code",
   "execution_count": 13,
   "metadata": {},
   "outputs": [
    {
     "name": "stdout",
     "output_type": "stream",
     "text": [
      "Home Page\n",
      "Home\n",
      "News\n",
      "Tech\n",
      "Sports\n",
      "Bussines\n",
      "Country\n",
      "Pakistan\n",
      "Turkey\n",
      "China\n",
      "Iran\n",
      "Iraq\n",
      "Log In\n",
      "Sign Up\n",
      " Hot\n",
      "#InTech\n",
      "16/02/22 16:22\n",
      "County staff to refund stolen Sh17m in exchange for freedom.\n",
      "Lorem ipsum lorem ipsum....Lorem ipsum lorem ipsum....Lorem ipsum lorem ipsum....\n",
      " Comment \n",
      " Share \n",
      " Hot\n",
      "#InTech\n",
      "16/02/22 16:22\n",
      "County staff to refund stolen Sh17m in exchange for freedom.\n",
      "Lorem ipsum lorem ipsum....Lorem ipsum lorem ipsum....Lorem ipsum lorem ipsum....\n",
      " Comment \n",
      " Share \n",
      " Hot\n",
      "#InTech\n",
      "16/02/22 16:22\n",
      "County staff to refund stolen Sh17m in exchange for freedom.\n",
      "Lorem ipsum lorem ipsum....Lorem ipsum lorem ipsum....Lorem ipsum lorem ipsum....\n",
      " Comment \n",
      " Share \n",
      "Load More\n",
      " Hot\n",
      "#InTech\n",
      "16/02/22 16:22\n",
      "County staff to refund stolen Sh17m in exchange for freedom.\n",
      "Lorem ipsum lorem ipsum....Lorem ipsum lorem ipsum....Lorem ipsum lorem ipsum....\n",
      " Comment \n",
      " Share \n",
      " Hot\n",
      "#InTech\n",
      "16/02/22 16:22\n",
      "County staff to refund stolen Sh17m in exchange for freedom.\n",
      "Lorem ipsum lorem ipsum....Lorem ipsum lorem ipsum....Lorem ipsum lorem ipsum....\n",
      " Comment \n",
      " Share \n",
      " Hot\n",
      "#InTech\n",
      "16/02/22 16:22\n",
      "County staff to refund stolen Sh17m in exchange for freedom.\n",
      "Lorem ipsum lorem ipsum....Lorem ipsum lorem ipsum....Lorem ipsum lorem ipsum....\n",
      " Comment \n",
      " Share \n",
      "Load More\n",
      " Hot\n",
      "#InTech\n",
      "16/02/22 16:22\n",
      "County staff to refund stolen Sh17m in exchange for freedom.\n",
      "Lorem ipsum lorem ipsum....Lorem ipsum lorem ipsum....Lorem ipsum lorem ipsum....\n",
      " Comment \n",
      " Share \n",
      " Hot\n",
      "#InTech\n",
      "16/02/22 16:22\n",
      "County staff to refund stolen Sh17m in exchange for freedom.\n",
      "Lorem ipsum lorem ipsum....Lorem ipsum lorem ipsum....Lorem ipsum lorem ipsum....\n",
      " Comment \n",
      " Share \n",
      " Hot\n",
      "#InTech\n",
      "16/02/22 16:22\n",
      "County staff to refund stolen Sh17m in exchange for freedom.\n",
      "Lorem ipsum lorem ipsum....Lorem ipsum lorem ipsum....Lorem ipsum lorem ipsum....\n",
      " Comment \n",
      " Share \n",
      "Load More\n",
      " Hot\n",
      "#InTech\n",
      "16/02/22 16:22\n",
      "County staff to refund stolen Sh17m in exchange for freedom.\n",
      "Lorem ipsum lorem ipsum....Lorem ipsum lorem ipsum....Lorem ipsum lorem ipsum....\n",
      " Comment \n",
      " Share \n",
      " Hot\n",
      "#InTech\n",
      "16/02/22 16:22\n",
      "County staff to refund stolen Sh17m in exchange for freedom.\n",
      "Lorem ipsum lorem ipsum....Lorem ipsum lorem ipsum....Lorem ipsum lorem ipsum....\n",
      " Comment \n",
      " Share \n",
      " Hot\n",
      "#InTech\n",
      "16/02/22 16:22\n",
      "County staff to refund stolen Sh17m in exchange for freedom.\n",
      "Lorem ipsum lorem ipsum....Lorem ipsum lorem ipsum....Lorem ipsum lorem ipsum....\n",
      " Comment \n",
      " Share \n",
      "Load More\n",
      " Hot\n",
      "#InTech\n",
      "16/02/22 16:22\n",
      "County staff to refund stolen Sh17m in exchange for freedom.\n",
      "Lorem ipsum lorem ipsum....Lorem ipsum lorem ipsum....Lorem ipsum lorem ipsum....\n",
      " Comment \n",
      " Share \n",
      " Hot\n",
      "#InTech\n",
      "16/02/22 16:22\n",
      "County staff to refund stolen Sh17m in exchange for freedom.\n",
      "Lorem ipsum lorem ipsum....Lorem ipsum lorem ipsum....Lorem ipsum lorem ipsum....\n",
      " Comment \n",
      " Share \n",
      " Hot\n",
      "#InTech\n",
      "16/02/22 16:22\n",
      "County staff to refund stolen Sh17m in exchange for freedom.\n",
      "Lorem ipsum lorem ipsum....Lorem ipsum lorem ipsum....Lorem ipsum lorem ipsum....\n",
      " Comment \n",
      " Share \n",
      "Load More\n",
      " Hot\n",
      "#InTech\n",
      "16/02/22 16:22\n",
      "County staff to refund stolen Sh17m in exchange for freedom.\n",
      "Lorem ipsum lorem ipsum....Lorem ipsum lorem ipsum....Lorem ipsum lorem ipsum....\n",
      " Comment \n",
      " Share \n",
      " Hot\n",
      "#InTech\n",
      "16/02/22 16:22\n",
      "County staff to refund stolen Sh17m in exchange for freedom.\n",
      "Lorem ipsum lorem ipsum....Lorem ipsum lorem ipsum....Lorem ipsum lorem ipsum....\n",
      " Comment \n",
      " Share \n",
      " Hot\n",
      "#InTech\n",
      "16/02/22 16:22\n",
      "County staff to refund stolen Sh17m in exchange for freedom.\n",
      "Lorem ipsum lorem ipsum....Lorem ipsum lorem ipsum....Lorem ipsum lorem ipsum....\n",
      " Comment \n",
      " Share \n",
      "Load More\n",
      "What is AllTop.com?\n",
      "AllTop aggregates all of the top news and information in real time. Our editors have\r\n",
      "                            carefully crafted each topic with the best sources allowing you to see what's happening\r\n",
      "                            quickly and from trusted sources. \n",
      "Subcribe\n",
      "Help\n",
      "Privacy\n",
      "Terms\n",
      "© All Right Reserved, 2022\n",
      "\n"
     ]
    }
   ],
   "source": [
    "\n",
    "lines = html_text.split(\"\\n\")\n",
    "\n",
    "non_empty_lines = [line for line in lines if line.strip() != \"\"]\n",
    "\n",
    "\n",
    "html_text = \"\"\n",
    "\n",
    "for line in non_empty_lines:\n",
    "\n",
    "      html_text += line + \"\\n\"\n",
    "\n",
    "# print(html_text)\n",
    "print( html_text)\n",
    "\n",
    "f = open(path + '/' + N_folder[1] + '/' + N_folder[1] + '.txt','w',encoding='utf-8')         # Creating html_text.txt File\n",
    "\n",
    "for line in html_text:\n",
    "\tf.write(line)\n",
    "\n",
    "f.close()"
   ]
  },
  {
   "cell_type": "code",
   "execution_count": 14,
   "metadata": {},
   "outputs": [],
   "source": [
    "# html_text1 = html_text.translate(str.maketrans('', '', string.punctuation))\n",
    "# print(html_text1)"
   ]
  },
  {
   "cell_type": "markdown",
   "metadata": {},
   "source": [
    " # Extract the Java and save in java.txt file"
   ]
  },
  {
   "cell_type": "code",
   "execution_count": 15,
   "metadata": {},
   "outputs": [
    {
     "name": "stdout",
     "output_type": "stream",
     "text": [
      "https://cdn.jsdelivr.net/npm/bootstrap@5.0.2/dist/js/bootstrap.bundle.min.js\n",
      "https://ajax.googleapis.com/ajax/libs/jquery/3.5.1/jquery.min.js\n",
      "https://alltop.netlify.app/script.js\n",
      "\n"
     ]
    }
   ],
   "source": [
    "# Java Urls\n",
    "script_files = []\n",
    "\n",
    "for script in soup.find_all(\"script\"):\n",
    "    if script.attrs.get(\"src\"):\n",
    "        # if the tag has the attribute 'src'\n",
    "        script_url = urljoin(url, script.attrs.get(\"src\"))\n",
    "        script_files.append(script_url)\n",
    "        \n",
    "        \n",
    "# change list to text   \n",
    "java_text = \"\"\n",
    "\n",
    "for line in script_files:\n",
    "\n",
    "      java_text += line + \"\\n\"\n",
    "\n",
    "        \n",
    "        \n",
    "# Add java urls in File\n",
    "f = open(path + '/' + N_folder[2] + '/' + N_folder[2] + '.txt','w',encoding='utf-8')         # Creating html_text.txt File\n",
    "\n",
    "for line in java_text:\n",
    "\tf.write(line)\n",
    "\n",
    "f.close()\n",
    "# print(script_files[0])\n",
    "print(java_text)"
   ]
  },
  {
   "cell_type": "code",
   "execution_count": 16,
   "metadata": {},
   "outputs": [],
   "source": [
    "# r = requests.get(url, allow_redirects=True)\n",
    "\n",
    "# open(path + '/' + N_folder[2] + '/' + URL[2] + '.java', 'wb').write(r.content)"
   ]
  },
  {
   "cell_type": "markdown",
   "metadata": {},
   "source": [
    "# Downloading Java files & save in Java Directory\n"
   ]
  },
  {
   "cell_type": "code",
   "execution_count": 17,
   "metadata": {},
   "outputs": [
    {
     "name": "stdout",
     "output_type": "stream",
     "text": [
      "File Save cdn.jsdelivr.netnpm0.java\n",
      "File Save ajax.googleapis.comajax1.java\n",
      "File Save alltop.netlify.appscript.js2.java\n"
     ]
    }
   ],
   "source": [
    "aa = 0\n",
    "while aa < len(script_files):\n",
    "    \n",
    "    url = script_files[aa]\n",
    "    URL = url.split('/')\n",
    "\n",
    "    r = requests.get(url, allow_redirects=True)\n",
    "    java_path = (URL[2] + URL[3]+ str(aa)) \n",
    "\n",
    "    open(path + '/' + N_folder[2] + '/' + java_path + '.java', 'wb').write(r.content)\n",
    "    \n",
    "    print('File Save '+ java_path + '.java' )\n",
    "    \n",
    "    aa = aa+1\n",
    "\n"
   ]
  },
  {
   "cell_type": "markdown",
   "metadata": {},
   "source": [
    "#  Extract the CSS and save in css.txt file"
   ]
  },
  {
   "cell_type": "code",
   "execution_count": 18,
   "metadata": {
    "scrolled": true
   },
   "outputs": [
    {
     "name": "stdout",
     "output_type": "stream",
     "text": [
      "https://cdn.jsdelivr.net/npm/bootstrap@5.0.2/dist/css/bootstrap.min.css\n",
      "https://cdn.jsdelivr.net/npm/bootstrap-icons@1.8.1/font/bootstrap-icons.css\n",
      "https://cdnjs.cloudflare.com/ajax/libs/font-awesome/4.7.0/css/font-awesome.min.css\n",
      "https://alltop.netlify.app/style.css\n",
      "\n"
     ]
    }
   ],
   "source": [
    "# CSS Urls\n",
    "css_files = []\n",
    "\n",
    "for css in soup.find_all(\"link\"):\n",
    "    if css.attrs.get(\"href\"):\n",
    "        # if the link tag has the 'href' attribute\n",
    "        css_url = urljoin(url, css.attrs.get(\"href\"))\n",
    "        css_files.append(css_url)\n",
    "        \n",
    "# change list to text       \n",
    "css_text = \"\"\n",
    "\n",
    "for line in css_files:\n",
    "\n",
    "      css_text += line + \"\\n\"\n",
    "\n",
    "\n",
    "        \n",
    "# Add css urls in File\n",
    "f = open(path + '/' + N_folder[0] + '/' + N_folder[0] + '.txt','w')         # Creating html_text.txt File\n",
    "\n",
    "for line in css_text:\n",
    "\tf.write(line)\n",
    "\n",
    "f.close()\n",
    "# print(css_files)\n",
    "print(css_text)"
   ]
  },
  {
   "cell_type": "markdown",
   "metadata": {},
   "source": [
    "# Downloading CSS files & Img  & save in Css Directory\n"
   ]
  },
  {
   "cell_type": "code",
   "execution_count": 19,
   "metadata": {},
   "outputs": [],
   "source": [
    "# a_string = css_files[3]\n",
    "# # a_string = a_strin.split('.')\n",
    "# print(a_string)\n",
    "# new_string = a_string.translate(str.maketrans('', '', string.punctuation))\n",
    "\n",
    "# print(new_string)"
   ]
  },
  {
   "cell_type": "code",
   "execution_count": 20,
   "metadata": {},
   "outputs": [
    {
     "name": "stdout",
     "output_type": "stream",
     "text": [
      "File Save cdn.jsdelivr.net0.css\n",
      "File Save cdn.jsdelivr.net1.css\n",
      "File Save cdnjs.cloudflare.com2.css\n",
      "File Save alltop.netlify.app3.css\n"
     ]
    }
   ],
   "source": [
    "a = 0\n",
    "while a < len(css_files):\n",
    "    \n",
    "    url = css_files[a]\n",
    "    URL = url.split('/')\n",
    "\n",
    "    r = requests.get(url, allow_redirects=True)\n",
    "    java_path = (URL[2] + str(a)) \n",
    "\n",
    "    \n",
    "    \n",
    "    if (URL.count(\"Img\") > 0):\n",
    "        open(path + '/' + N_folder[0] + '/' + java_path + '.png', 'wb').write(r.content)\n",
    "        print('File Save '+ java_path + '.png' )\n",
    "        \n",
    "    else: \n",
    "        open(path + '/' + N_folder[0] + '/' + java_path + '.css', 'wb').write(r.content)\n",
    "        print('File Save '+ java_path + '.css' )\n",
    "    \n",
    "    a = a+1\n",
    "\n"
   ]
  },
  {
   "cell_type": "code",
   "execution_count": null,
   "metadata": {},
   "outputs": [],
   "source": []
  },
  {
   "cell_type": "code",
   "execution_count": null,
   "metadata": {},
   "outputs": [],
   "source": []
  },
  {
   "cell_type": "code",
   "execution_count": null,
   "metadata": {},
   "outputs": [],
   "source": []
  },
  {
   "cell_type": "code",
   "execution_count": null,
   "metadata": {},
   "outputs": [],
   "source": []
  },
  {
   "cell_type": "code",
   "execution_count": null,
   "metadata": {},
   "outputs": [],
   "source": []
  },
  {
   "cell_type": "code",
   "execution_count": null,
   "metadata": {},
   "outputs": [],
   "source": []
  }
 ],
 "metadata": {
  "kernelspec": {
   "display_name": "Python 3",
   "language": "python",
   "name": "python3"
  },
  "language_info": {
   "codemirror_mode": {
    "name": "ipython",
    "version": 3
   },
   "file_extension": ".py",
   "mimetype": "text/x-python",
   "name": "python",
   "nbconvert_exporter": "python",
   "pygments_lexer": "ipython3",
   "version": "3.8.5"
  }
 },
 "nbformat": 4,
 "nbformat_minor": 4
}
